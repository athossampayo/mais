{
  "nbformat": 4,
  "nbformat_minor": 0,
  "metadata": {
    "colab": {
      "name": "[dados] br_inep_enem.escola",
      "provenance": []
    },
    "kernelspec": {
      "name": "python3",
      "display_name": "Python 3"
    },
    "language_info": {
      "name": "python"
    }
  },
  "cells": [
    {
      "cell_type": "code",
      "metadata": {
        "colab": {
          "base_uri": "https://localhost:8080/"
        },
        "id": "22Dj9hMC3hoP",
        "outputId": "334b8d8c-9dac-46fe-bdb1-7914de94ca3a"
      },
      "source": [
        "from google.colab import drive\n",
        "drive.mount('/content/drive')"
      ],
      "execution_count": 1,
      "outputs": [
        {
          "output_type": "stream",
          "name": "stdout",
          "text": [
            "Mounted at /content/drive\n"
          ]
        }
      ]
    },
    {
      "cell_type": "code",
      "metadata": {
        "id": "TBiWj_ja3nlp"
      },
      "source": [
        "import pandas as pd\n",
        "import numpy as np"
      ],
      "execution_count": 3,
      "outputs": []
    },
    {
      "cell_type": "code",
      "metadata": {
        "id": "Ombl3uWG33H8"
      },
      "source": [
        "df = pd.read_csv('/content/drive/MyDrive/br_inep_enem_escola/input/MICRODADOS_ENEM_ESCOLA.csv', sep=';', encoding='iso-8859-1')"
      ],
      "execution_count": null,
      "outputs": []
    },
    {
      "cell_type": "code",
      "metadata": {
        "id": "GQ_eRl4gB7-w"
      },
      "source": [
        "rename = {'NU_ANO':'ano',\t'SG_UF_ESCOLA':'sigla_uf', 'CO_MUNICIPIO_ESCOLA':'id_municipio',\t'CO_ESCOLA_EDUCACENSO':'id_escola',\n",
        "          'TP_DEPENDENCIA_ADM_ESCOLA':'rede',\t'TP_LOCALIZACAO_ESCOLA':'tipo_localizacao',\t'INSE':'nivel_socio_economico',\n",
        "          'PC_FORMACAO_DOCENTE':'formacao_docente',\t'PORTE_ESCOLA':'porte_escola',\t'NU_MATRICULAS':'alunos_matriculados',\n",
        "          'NU_PARTICIPANTES':'participantes_enem',\t'NU_PARTICIPANTES_NEC_ESP':'participantes_enem_necessidade_especial',\n",
        "          'NU_MEDIA_CN':'media_ciencias_natureza',\t'NU_MEDIA_CH':'media_ciencias_humanas',\t'NU_MEDIA_LP':'media_linguagens_codigos',\n",
        "          'NU_MEDIA_MT':'media_matematica',\t'NU_MEDIA_RED':'media_redacao',\t'NU_MEDIA_OBJ':'media_prova_objetiva',\t'NU_MEDIA_TOT':'media_total',\n",
        "          'NU_TAXA_PARTICIPACAO':'taxa_participacao',\t'NU_TAXA_PERMANENCIA':'taxa_permanencia',\t'NU_TAXA_APROVACAO':'taxa_aprovacao',\n",
        "          'NU_TAXA_REPROVACAO':'taxa_reprovacao',\t'NU_TAXA_ABANDONO':'taxa_abandono'}\n",
        "\n",
        "ordem = ['ano',\t'sigla_uf',\t'id_municipio',\t'id_escola', 'rede',\t'tipo_localizacao',\t'nivel_socio_economico',\t'formacao_docente',\n",
        "         'porte_escola',\t'alunos_matriculados',\t'participantes_enem',\t'participantes_enem_necessidade_especial',\t'media_ciencias_natureza',\t'media_ciencias_humanas',\t\n",
        "         'media_linguagens_codigos',\t'media_matematica',\t'media_redacao',\t'media_prova_objetiva',\t'media_total',\t'taxa_participacao',\n",
        "         'taxa_permanencia',\t'taxa_aprovacao',\t'taxa_reprovacao',\t'taxa_abandono']"
      ],
      "execution_count": 45,
      "outputs": []
    },
    {
      "cell_type": "code",
      "metadata": {
        "id": "0AuBeqWuG5Oi"
      },
      "source": [
        "df.rename(columns=rename, inplace=True)\n",
        "df = df[ordem]\n",
        "df.sort_values(['ano', 'id_municipio', 'id_escola'], inplace=True)\n",
        "\n",
        "df['nivel_socio_economico'] = df['nivel_socio_economico'].replace(['Grupo 1'],'1')\n",
        "df['nivel_socio_economico'] = df['nivel_socio_economico'].replace(['Grupo 2'],'2')\n",
        "df['nivel_socio_economico'] = df['nivel_socio_economico'].replace(['Grupo 3'],'3')\n",
        "df['nivel_socio_economico'] = df['nivel_socio_economico'].replace(['Grupo 4'],'4')\n",
        "df['nivel_socio_economico'] = df['nivel_socio_economico'].replace(['Grupo 5'],'5')\n",
        "df['nivel_socio_economico'] = df['nivel_socio_economico'].replace(['Grupo 6'],'6')\n",
        "\n",
        "df['porte_escola'] = df['porte_escola'].replace(['De 1 a 30 alunos'],'1')\n",
        "df['porte_escola'] = df['porte_escola'].replace(['De 31 a 60 alunos'],'2')\n",
        "df['porte_escola'] = df['porte_escola'].replace(['De 61 a 90 alunos'],'3')\n",
        "df['porte_escola'] = df['porte_escola'].replace(['Maior que 90 alunos'],'4')\n",
        "\n",
        "df['participantes_enem_necessidade_especial'] = df['participantes_enem_necessidade_especial'].fillna('')"
      ],
      "execution_count": null,
      "outputs": []
    },
    {
      "cell_type": "code",
      "metadata": {
        "id": "JpYLPBrx4KEI"
      },
      "source": [
        "df.to_csv('/content/drive/MyDrive/br_inep_enem_escola/output/microdados_enem_escola.csv', index=False, na_rep='', encoding='utf-8')"
      ],
      "execution_count": 49,
      "outputs": []
    }
  ]
}