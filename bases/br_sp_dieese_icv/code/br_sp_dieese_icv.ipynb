{
  "nbformat": 4,
  "nbformat_minor": 0,
  "metadata": {
    "colab": {
      "name": "br_sp_dieese_icv.ipynb",
      "provenance": []
    },
    "kernelspec": {
      "name": "python3",
      "display_name": "Python 3"
    },
    "language_info": {
      "name": "python"
    }
  },
  "cells": [
    {
      "cell_type": "code",
      "metadata": {
        "id": "wHDqxZvaTPqn"
      },
      "source": [
        "#------------------------------------------------------------------------------#\n",
        "# setup\n",
        "#------------------------------------------------------------------------------#\n",
        "drive.mount('/content/gdrive')\n",
        "\n",
        "!pip install ipeadatapy\n",
        "from google.colab import drive\n",
        "\n",
        "import pandas     as pd\n",
        "import ipeadatapy as idpy\n",
        "\n",
        "#------------------------------------------------------------------------------#\n",
        "# path\n",
        "#------------------------------------------------------------------------------#\n",
        "\n",
        "path_output = '/content/gdrive/MyDrive/Base dos Dados/Dados/Bases/br_sp_dieese_icv/output/'"
      ],
      "execution_count": null,
      "outputs": []
    },
    {
      "cell_type": "code",
      "source": [
        "#------------------------------------------------------------------------------#\n",
        "# listas\n",
        "#------------------------------------------------------------------------------#\n",
        "\n",
        "codes  = ['DIEESE12_ICVSPD12', 'DIEESE12_ICVSPDG12', 'DIEESE_ICVSPDG']\n",
        "drop_m = ['DATE', 'DAY', 'CODE',         'RAW DATE']\n",
        "drop_a = ['DATE', 'DAY', 'CODE','MONTH', 'RAW DATE']\n",
        "\n",
        "rename_m = {\n",
        "    'YEAR'             : 'ano', \n",
        "    'MONTH'            : 'mes', \n",
        "    'VALUE (-)'        : 'indice', \n",
        "    'VALUE ((% a.m.))' : 'variacao_mensal'}\n",
        "\n",
        "rename_a = {\n",
        "    'YEAR'             : 'ano', \n",
        "    'MONTH'            : 'mes', \n",
        "    'VALUE ((% a.a.))' : 'variacao_anual'}\n"
      ],
      "metadata": {
        "id": "Zbm8E1B8qPUc"
      },
      "execution_count": null,
      "outputs": []
    },
    {
      "cell_type": "code",
      "source": [
        "#------------------------------------------------------------------------------#\n",
        "# outputs\n",
        "#------------------------------------------------------------------------------#\n",
        "\n",
        "def icv (filepath, drop_m, rename_m):\n",
        "    df = idpy.timeseries(filepath).reset_index()   \n",
        "    df.drop(drop_m, axis = 1,     inplace = True)                    \n",
        "    df.rename(columns = rename_m, inplace = True)                  \n",
        "\n",
        "    return df \n",
        "\n",
        "indice          = icv(codes[0], drop_m, rename_m)\n",
        "variacao_mensal = icv(codes[1], drop_m, rename_m)\n",
        "variacao_anual  = icv(codes[2], drop_a, rename_a)\n",
        "\n",
        "icv_mes = pd.merge(indice, variacao_mensal, \n",
        "                   how      = 'left', \n",
        "                   left_on  = ['ano', 'mes'], \n",
        "                   right_on = ['ano', 'mes'])\n",
        "\n",
        "icv_mes.to_csv(path_output        + 'mes_sp/mes_sp.csv', index=False, encoding = 'utf-8', na_rep = '')\n",
        "variacao_anual.to_csv(path_output + 'ano_sp/ano_sp.csv', index=False, encoding = 'utf-8', na_rep = '')"
      ],
      "metadata": {
        "id": "viVmBLTdkmth"
      },
      "execution_count": null,
      "outputs": []
    }
  ]
}